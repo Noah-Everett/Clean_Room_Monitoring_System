{
 "cells": [
  {
   "cell_type": "code",
   "execution_count": 2,
   "metadata": {},
   "outputs": [
    {
     "name": "stdout",
     "output_type": "stream",
     "text": [
      "Run Selection Method: Manual Input \n",
      "Run Name: Run0003\n"
     ]
    }
   ],
   "source": [
    "import os\n",
    "\n",
    "#=====RUN NAME INPUT=====#\n",
    "manualRun = True # If true enter runName, else uses newest run\n",
    "runName = \"Run0003\" # Name of run in Analysis/Runs/\n",
    "#========================#\n",
    "\n",
    "if manualRun: print( \"Run Selection Method: Manual Input \\nRun Name:\", runName )\n",
    "else: print( \"Run Selection Method: Automatic\" )"
   ]
  },
  {
   "cell_type": "code",
   "execution_count": 2,
   "metadata": {},
   "outputs": [
    {
     "name": "stdout",
     "output_type": "stream",
     "text": [
      "Run Name: Run0003\n",
      "Run Path: /Users/noaheverett/Documents/Codes/MyRepos/crm/Analysis/Runs/Run0003\n"
     ]
    }
   ],
   "source": [
    "\n",
    "import sys\n",
    "\n",
    "os.chdir( \"/Users/noaheverett/Documents/Codes/MyRepos/crm/Analysis/Runs\" )\n",
    "\n",
    "if not manualRun:\n",
    "    runs = sorted( os.listdir( os.getcwd() ) )\n",
    "    if runs[ -1 ] == \".DS_Store\":\n",
    "        runName = runs[ len( runs ) - 2 ]\n",
    "    else:\n",
    "        runName = runs[ -1 ]\n",
    "\n",
    "    if runName == \".DS_Store\":\n",
    "        sys.exit( \"No data files found in\", str( os.getcwd() ) )\n",
    "\n",
    "os.chdir( str( os.getcwd() ) + \"/\" + runName )\n",
    "\n",
    "print( \"Run Name:\", runName )\n",
    "print( \"Run Path:\", os.getcwd() )"
   ]
  },
  {
   "cell_type": "code",
   "execution_count": 3,
   "metadata": {},
   "outputs": [
    {
     "name": "stdout",
     "output_type": "stream",
     "text": [
      "Run Path: /Users/noaheverett/Documents/Codes/MyRepos/crm/Analysis/Runs/Run0003/Data0.csv\n"
     ]
    }
   ],
   "source": [
    "import pandas as pd\n",
    "import datetime as dt\n",
    "\n",
    "dataTypes = [ \"Actual Time\", \"Run Time\", \"Date Time\", \"Temperature_MS8607\", \"Temperature_DHT22\", \"Humidity_MS8607\", \"Humidity_DHT22\", \"Pressure\", \"Dust_PM10Standard\", \"Dust_PM25Standard\", \"Dust_PM100Standard\", \"Dust_PM10Env\", \"Dust_PM25Env\", \"Dust_PM100Env\", \"Dust_Particles03um\", \"Dust_Particles05um\", \"Dust_Particles10um\", \"Dust_Particles25um\", \"Dust_Particles50um\", \"Dust_Particles100\", \"VolatileOrganicCompounds_eCO2\", \"VolatileOrganicCompounds_TVOC\" ]\n",
    "\n",
    "data0 = pd.read_csv( str( os.getcwd() ) + \"/Data0.csv\", header = 0, names = dataTypes, index_col = False )\n",
    "data1 = pd.read_csv( str( os.getcwd() ) + \"/Data1.csv\", header = 0, names = dataTypes, index_col = False )\n",
    "\n",
    "if data0.size > data1.size:\n",
    "    data = data0\n",
    "    dataFileName = \"Data0.csv\"\n",
    "else:\n",
    "    data = data1\n",
    "    dataFileName = \"Data1.csv\"\n",
    "\n",
    "for dataType in dataTypes:\n",
    "    if dataType != \"Date Time\":\n",
    "        data[ dataType ] = pd.to_numeric( data[ dataType ], downcast = \"float\" )\n",
    "\n",
    "data[ \"Date Time\" ] = pd.to_datetime( data[ \"Date Time\" ] )\n",
    "        \n",
    "print( \"Run Path:\", str( os.getcwd() ) + \"/\" + dataFileName )\n",
    "\n",
    "# pd.set_option(\"display.max_rows\", None, \"display.max_columns\", None)\n",
    "# print( data )\n",
    "# data.head( 10 )\n",
    "# data.tail( 10 )\n",
    "# dataFile0.head( 5 )\n",
    "# dataFile0.tail( 5 )\n",
    "# dataFile1.head( 5 )\n",
    "# dataFile1.tail( 5 )"
   ]
  },
  {
   "cell_type": "code",
   "execution_count": 4,
   "metadata": {},
   "outputs": [],
   "source": [
    "# Plot settings\n",
    "alpha = [ 1.0, 0.8 ]\n",
    "fontSize_title = 20\n",
    "fontSize_label = 18\n",
    "lineWidth = 3\n",
    "\n",
    "def plotAxis( ax, title, label, graphData, configuration ):\n",
    "    for n in range( len( graphData ) ):\n",
    "        ax.plot( data[ \"Date Time\" ], data[ graphData[ n ] ], linewidth = lineWidth, label = label[ n ], color = configuration[ \"color\" ][ n ], alpha = alpha[ n ] )\n",
    "        ax.set_xlim( data[ \"Date Time\" ][ 0 ], data[ \"Date Time\" ].iloc[ -1 ] )\n",
    "\n",
    "    if configuration[ \"manualLimit\" ]: ax.set_ylim( configuration[ \"yLower\" ], configuration[ \"yUpper\" ] )\n",
    "    if configuration[ \"legend\" ]: ax.legend( loc = \"upper right\", fontsize = fontSize_label )\n",
    "    if configuration[ \"logScale\" ]: ax.set_yscale( \"log\" )\n",
    "    ax.set_ylabel( title, fontsize = fontSize_title )\n",
    "    ax.tick_params( axis = \"both\", labelsize = fontSize_label )\n",
    "    ax.grid()\n",
    "\n",
    "def plotTwinAxis( ax, title, label, graphData, configuration ):\n",
    "    line = []\n",
    "\n",
    "    for n in [ 0, 1 ]:\n",
    "        line.append( ax[ n ].plot( data[ \"Date Time\" ], data[ graphData[ n ] ], linewidth = lineWidth, color = configuration[ n ][ \"color\" ], alpha = alpha[ n ] ) )\n",
    "        ax[ n ].set_xlim( data[ \"Date Time\" ][ 0 ], data[ \"Date Time\" ].iloc[ -1 ] )\n",
    "        if configuration[ n ][ \"manualLimit\" ]: ax[ n ].set_ylim( configuration[ n ][ \"yLower\" ], configuration[ n ][ \"yUpper\" ] )\n",
    "        if configuration[ n ][ \"logScale\" ]: ax[ n ].set_yscale( \"log\" )\n",
    "        ax[ n ].tick_params( axis = \"y\", labelsize = fontSize_label, labelcolor = configuration[ n ][ \"color\" ] )\n",
    "        ax[ n ].grid()\n",
    "\n",
    "    ax[ 0 ].set_ylabel( title, fontsize = fontSize_title )\n",
    "    ax[ 0 ].tick_params( axis = \"x\", labelsize = fontSize_label )\n",
    "    ax[ 0 ].legend( line[ 0 ] + line[ 1 ], [ label[ 0 ], label[ 1 ] ], loc = \"upper right\", fontsize = fontSize_label )\n",
    "    ax[ 1 ].legend( line[ 0 ] + line[ 1 ], [ label[ 0 ], label[ 1 ] ], loc = \"upper right\", fontsize = fontSize_label )\n",
    "\n",
    "def plot( config ):\n",
    "    fig, ( ax_temperature, ax_humidity, ax_pressure, ax_dust03, ax_voc ) = plt.subplots( 5, figsize = ( 32, 18 ) )\n",
    "    ax_dust05 = ax_dust03.twinx()\n",
    "    ax_co2 = ax_voc.twinx()\n",
    "\n",
    "    plotAxis( ax_temperature, \"Temperature (\" + u\"\\N{DEGREE SIGN}C)\", [ \"MS8067\", \"DHT22\" ], [ \"Temperature_MS8607\", \"Temperature_DHT22\" ], config[ \"config_temperature\" ] )\n",
    "    plotAxis( ax_humidity, \"Humidity (%)\", [ \"MS8607\", \"DHT22\" ], [ \"Humidity_MS8607\", \"Humidity_DHT22\" ], config[ \"config_humidity\" ] )\n",
    "    plotAxis( ax_pressure, \"Pressure (torr)\", [ None ], [ \"Pressure\" ], config[ \"config_pressure\" ] )\n",
    "    plotTwinAxis( [ ax_dust03, ax_dust05 ], \"Particles\", [ \"> 0.3\" + u\"\\u03bcm\", \"> 0.5\" + u\"\\u03bcm\" ], [ \"Dust_Particles03um\", \"Dust_Particles05um\" ], [ config[ \"config_dust03\" ], config[ \"config_dust05\" ] ] )\n",
    "    plotTwinAxis( [ ax_voc, ax_co2 ], \"VOC\", [ \"Total VOC\", \"Equivalent CO2\" ], [ \"VolatileOrganicCompounds_TVOC\", \"VolatileOrganicCompounds_eCO2\" ], [ config[ \"config_voc\" ], config[ \"config_co2\" ] ] )\n",
    "\n",
    "    ax_temperature.set_title( runName + \" Data\", fontweight = \"bold\", fontsize = 25 )\n",
    "    fig.set_facecolor( \"white\" )\n",
    "    fig.tight_layout()\n",
    "\n",
    "    return fig"
   ]
  },
  {
   "cell_type": "code",
   "execution_count": 1,
   "metadata": {},
   "outputs": [
    {
     "ename": "NameError",
     "evalue": "name 'plot' is not defined",
     "output_type": "error",
     "traceback": [
      "\u001b[0;31m---------------------------------------------------------------------------\u001b[0m",
      "\u001b[0;31mNameError\u001b[0m                                 Traceback (most recent call last)",
      "\u001b[0;32m<ipython-input-1-8691fa935eb9>\u001b[0m in \u001b[0;36m<module>\u001b[0;34m()\u001b[0m\n\u001b[1;32m     11\u001b[0m \u001b[0;31m#===========================================#\u001b[0m\u001b[0;34m\u001b[0m\u001b[0;34m\u001b[0m\u001b[0;34m\u001b[0m\u001b[0m\n\u001b[1;32m     12\u001b[0m \u001b[0;34m\u001b[0m\u001b[0m\n\u001b[0;32m---> 13\u001b[0;31m \u001b[0mfig\u001b[0m \u001b[0;34m=\u001b[0m \u001b[0mplot\u001b[0m\u001b[0;34m(\u001b[0m \u001b[0mconfig\u001b[0m \u001b[0;34m)\u001b[0m\u001b[0;34m\u001b[0m\u001b[0;34m\u001b[0m\u001b[0m\n\u001b[0m",
      "\u001b[0;31mNameError\u001b[0m: name 'plot' is not defined"
     ]
    }
   ],
   "source": [
    "import matplotlib.pyplot as plt\n",
    "\n",
    "#=====PLOT CONFIGURATION SETTINGS INPUT=====#\n",
    "config = { \"config_temperature\": { \"manualLimit\": True,  \"yLower\": 19.5,  \"yUpper\": 24.5, \"legend\": True,  \"logScale\": False, \"color\": [ \"gold\", \"darkorange\" ]  },\n",
    "           \"config_humidity\"   : { \"manualLimit\": True,  \"yLower\": 8,     \"yUpper\": 23,   \"legend\": True,  \"logScale\": False, \"color\": [ \"darkred\", \"crimson\" ]  },\n",
    "           \"config_pressure\"   : { \"manualLimit\": False, \"yLower\": 25,    \"yUpper\": 40,   \"legend\": False, \"logScale\": False, \"color\": [ \"rebeccapurple\"       ] },\n",
    "           \"config_dust03\"     : { \"manualLimit\": False, \"yLower\": 0,     \"yUpper\": 500,                   \"logScale\": False, \"color\":   \"mediumblue\"            },\n",
    "           \"config_dust05\"     : { \"manualLimit\": False, \"yLower\": 0,     \"yUpper\": 150,                   \"logScale\": False, \"color\":   \"teal\"                  },\n",
    "           \"config_voc\"        : { \"manualLimit\": False, \"yLower\": 0,     \"yUpper\": 40,                    \"logScale\": False, \"color\":   \"darkslategray\"         },\n",
    "           \"config_co2\"        : { \"manualLimit\": False, \"yLower\": 400,   \"yUpper\": 450,                   \"logScale\": False, \"color\":   \"limegreen\"             } }\n",
    "#===========================================#\n",
    "\n",
    "fig = plot( config )"
   ]
  },
  {
   "cell_type": "markdown",
   "metadata": {},
   "source": []
  },
  {
   "cell_type": "code",
   "execution_count": 15,
   "metadata": {},
   "outputs": [],
   "source": [
    "#=====SAVE PLOT INPUT=====#\n",
    "savePlot = True\n",
    "#=========================#\n",
    "\n",
    "if savePlot: fig.savefig( runName + \" Plot.png\", facecolor = \"w\", transparent = False, format = \"png\" )"
   ]
  },
  {
   "cell_type": "code",
   "execution_count": null,
   "metadata": {},
   "outputs": [],
   "source": []
  }
 ],
 "metadata": {
  "interpreter": {
   "hash": "aee8b7b246df8f9039afb4144a1f6fd8d2ca17a180786b69acc140d282b71a49"
  },
  "kernelspec": {
   "display_name": "Python 3.7.3 32-bit",
   "name": "python373jvsc74a57bd031f2aee4e71d21fbe5cf8b01ff0e069b9275f58929596ceb00d14d90e3e16cd6"
  },
  "language_info": {
   "codemirror_mode": {
    "name": "ipython",
    "version": 3
   },
   "file_extension": ".py",
   "mimetype": "text/x-python",
   "name": "python",
   "nbconvert_exporter": "python",
   "pygments_lexer": "ipython3",
   "version": "3.7.3"
  },
  "orig_nbformat": 4
 },
 "nbformat": 4,
 "nbformat_minor": 2
}